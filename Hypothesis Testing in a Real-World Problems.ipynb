{
 "cells": [
  {
   "cell_type": "markdown",
   "id": "7996fb13",
   "metadata": {},
   "source": [
    "# Hypothesis Testing in a Real-World Industry Example\n",
    "\n",
    "## Hypothesis Testing\n",
    "\n",
    "Hypothesis testing is a statistical method used to make inferences or draw conclusions about a population based on sample data. It involves the following steps:\n",
    "1. **Formulate Hypotheses**: Define the null hypothesis (H0) and the alternative hypothesis (H1). \n",
    "   - The null hypothesis represents the status quo or a statement of no effect, \n",
    "   - while the alternative hypothesis represents what you want to test.\n",
    "\n",
    "2. **Choose Significance Level**: Determine the significance level (alpha), typically 0.05, which is the probability of rejecting the null hypothesis when it is actually true.\n",
    "\n",
    "3. **Collect Data**: Obtain a random sample from the population and calculate relevant statistics.\n",
    "\n",
    "4. **Perform Test**: Use an appropriate statistical test to calculate the test statistic and p-value.\n",
    "\n",
    "5. **Make Decision**: Compare the p-value to the significance level. If the p-value is less than alpha, reject the null hypothesis; otherwise, fail to reject the null hypothesis."
   ]
  },
  {
   "cell_type": "markdown",
   "id": "7df6d83d",
   "metadata": {},
   "source": [
    "### Real-World Industry Example\n",
    "\n",
    "Suppose a company wants to test if the average daily sales are equal to a specified target value, say $500. We can set up our hypotheses as follows:\n",
    "\n",
    "\n",
    "- H0: The average daily sales are equal to $500.\n",
    "\n",
    "- H1: The average daily sales are different from $500.\n",
    "\n",
    "We'll use a dataset of daily sales figures to perform our hypothesis test.\n",
    "\n",
    "## Hypothesis Testing Example in Python"
   ]
  },
  {
   "cell_type": "markdown",
   "id": "53c1aaf5",
   "metadata": {},
   "source": [
    "## In the Context of the Example:\n",
    "\n",
    "- Population Data: The total set of all possible daily sales figures for the company.\n",
    "\n",
    "- Sample Data: A subset of daily sales figures collected over a specific period (e.g., 100 days in our example).\n",
    "\n",
    "#### Explanation:\n",
    "- Population: All daily sales figures the company could possibly record. If the company operates every day for a year, the population could consist of 365 daily sales figures for that year. For multiple years, this number grows accordingly.\n",
    "\n",
    "- Sample: A smaller, manageable number of daily sales figures drawn from the population. In our example, we used a sample of 100 daily sales figures to perform our hypothesis test.\n",
    "\n",
    "- Inference: The goal is to make inferences about the population based on the sample. We use statistical tests to determine if the observed sample provides enough evidence to draw conclusions about the population mean."
   ]
  },
  {
   "cell_type": "markdown",
   "id": "7a71b00a",
   "metadata": {},
   "source": [
    "#### Population?\n",
    "- In statistics, a population refers to the entire group of individuals, items, or events about which you want to draw conclusions. This group is often large and can be difficult or impractical to measure or observe in its entirety. The population typically represents the broader group to which you want to generalize your findings.\n",
    "\n",
    "#### Sample?\n",
    "- On the other hand, a sample is a subset of the population that is selected for observation or analysis. It is a smaller, manageable portion of the population that is chosen to represent the whole. The purpose of taking a sample is to draw inferences or make conclusions about the population without having to measure or observe every single member of the population."
   ]
  },
  {
   "cell_type": "code",
   "execution_count": 21,
   "id": "b251ec6e",
   "metadata": {},
   "outputs": [],
   "source": [
    "# Importing necessary libraries\n",
    "import numpy as np\n",
    "import pandas as pd\n",
    "import scipy.stats as stats\n",
    "import matplotlib.pyplot as plt\n",
    "import seaborn as sns\n",
    "\n",
    "# Display settings\n",
    "sns.set(style=\"whitegrid\")"
   ]
  },
  {
   "cell_type": "code",
   "execution_count": 13,
   "id": "423d7d61",
   "metadata": {},
   "outputs": [],
   "source": [
    "# Simulated data for daily sales (in dollars)\n",
    "np.random.seed(42)\n",
    "daily_sales = np.random.normal(520, 50, 100)  # mean = 520, std = 50, n = 100\n"
   ]
  },
  {
   "cell_type": "code",
   "execution_count": 14,
   "id": "05245c33",
   "metadata": {},
   "outputs": [
    {
     "data": {
      "text/html": [
       "<div>\n",
       "<style scoped>\n",
       "    .dataframe tbody tr th:only-of-type {\n",
       "        vertical-align: middle;\n",
       "    }\n",
       "\n",
       "    .dataframe tbody tr th {\n",
       "        vertical-align: top;\n",
       "    }\n",
       "\n",
       "    .dataframe thead th {\n",
       "        text-align: right;\n",
       "    }\n",
       "</style>\n",
       "<table border=\"1\" class=\"dataframe\">\n",
       "  <thead>\n",
       "    <tr style=\"text-align: right;\">\n",
       "      <th></th>\n",
       "      <th>Daily Sales</th>\n",
       "    </tr>\n",
       "  </thead>\n",
       "  <tbody>\n",
       "    <tr>\n",
       "      <th>0</th>\n",
       "      <td>544.835708</td>\n",
       "    </tr>\n",
       "    <tr>\n",
       "      <th>1</th>\n",
       "      <td>513.086785</td>\n",
       "    </tr>\n",
       "    <tr>\n",
       "      <th>2</th>\n",
       "      <td>552.384427</td>\n",
       "    </tr>\n",
       "    <tr>\n",
       "      <th>3</th>\n",
       "      <td>596.151493</td>\n",
       "    </tr>\n",
       "    <tr>\n",
       "      <th>4</th>\n",
       "      <td>508.292331</td>\n",
       "    </tr>\n",
       "    <tr>\n",
       "      <th>...</th>\n",
       "      <td>...</td>\n",
       "    </tr>\n",
       "    <tr>\n",
       "      <th>95</th>\n",
       "      <td>446.824253</td>\n",
       "    </tr>\n",
       "    <tr>\n",
       "      <th>96</th>\n",
       "      <td>534.806014</td>\n",
       "    </tr>\n",
       "    <tr>\n",
       "      <th>97</th>\n",
       "      <td>533.052764</td>\n",
       "    </tr>\n",
       "    <tr>\n",
       "      <th>98</th>\n",
       "      <td>520.255673</td>\n",
       "    </tr>\n",
       "    <tr>\n",
       "      <th>99</th>\n",
       "      <td>508.270643</td>\n",
       "    </tr>\n",
       "  </tbody>\n",
       "</table>\n",
       "<p>100 rows × 1 columns</p>\n",
       "</div>"
      ],
      "text/plain": [
       "    Daily Sales\n",
       "0    544.835708\n",
       "1    513.086785\n",
       "2    552.384427\n",
       "3    596.151493\n",
       "4    508.292331\n",
       "..          ...\n",
       "95   446.824253\n",
       "96   534.806014\n",
       "97   533.052764\n",
       "98   520.255673\n",
       "99   508.270643\n",
       "\n",
       "[100 rows x 1 columns]"
      ]
     },
     "execution_count": 14,
     "metadata": {},
     "output_type": "execute_result"
    }
   ],
   "source": [
    "# Create a DataFrame\n",
    "data = pd.DataFrame({'Daily Sales': daily_sales})\n",
    "data"
   ]
  },
  {
   "cell_type": "code",
   "execution_count": 15,
   "id": "3a437c47",
   "metadata": {},
   "outputs": [],
   "source": [
    "# Calculate the sample mean and standard deviation\n",
    "sample_mean = np.mean(daily_sales)\n",
    "sample_std = np.std(daily_sales, ddof=1)\n",
    "n = len(daily_sales)"
   ]
  },
  {
   "cell_type": "markdown",
   "id": "a5fb2af4",
   "metadata": {},
   "source": [
    "Q) **Why sample mean and sample std is important?**\n",
    "\n",
    "The sample mean and sample standard deviation are related to the population:\n",
    "\n",
    "- Sample Mean: In this example, the sample mean represents the average daily sales observed in the sample data collected over a specific period. It gives us an estimate of the average daily sales for the subset of days included in the sample.\n",
    "\n",
    "- Sample Standard Deviation: The sample standard deviation measures the variability or spread of the observed daily sales figures around the sample mean. It quantifies how much the individual daily sales values deviate from the average daily sales observed in the sample\n",
    "\n",
    "Q) **What relationship it have with population?**\n",
    "- Population Mean: The population mean represents the average daily sales of the entire company over all possible days. It is the true average daily sales value for the entire population of days.\n",
    "\n",
    "- Population Standard Deviation: The population standard deviation measures the variability or spread of the daily sales figures around the population mean. It quantifies how much the individual daily sales values deviate from the true average daily sales value for the entire population.\n",
    "\n",
    "#### How They Relate:\n",
    "- Estimation: The sample mean and sample standard deviation are used to estimate the population mean and population standard deviation, respectively. They provide estimates of the true population parameters based on the observed sample data.\n",
    "\n",
    "- Inference: In hypothesis testing, we use the sample mean and sample standard deviation to test hypotheses about the population mean. We make inferences about the population based on the characteristics of the sample.\n",
    "\n",
    "- Generalization: The goal is to generalize the findings from the sample to the entire population. The sample statistics (mean and standard deviation) help us draw conclusions about the population parameters (mean and standard deviation) based on the observed sample data."
   ]
  },
  {
   "cell_type": "code",
   "execution_count": 16,
   "id": "7677f963",
   "metadata": {},
   "outputs": [],
   "source": [
    "# Set the target average sales\n",
    "target_mean = 500\n"
   ]
  },
  {
   "cell_type": "markdown",
   "id": "589f2e25",
   "metadata": {},
   "source": [
    "- The \"target mean\" refers to a specific value that you want to test your sample data against in hypothesis testing. In the context of the example provided, it is the value you expect or want to compare the sample mean to. This target value is usually based on a theoretical expectation, business goal, or industry standard.\n",
    "\n",
    "- In the given example, the company wants to test whether their average daily sales are equal to $500. Here, $500 is the target mean. The hypotheses are set up to determine whether the observed sample mean (the average of the collected daily sales data) is statistically significantly different from this target mean of $500."
   ]
  },
  {
   "cell_type": "code",
   "execution_count": 17,
   "id": "cca5ed6e",
   "metadata": {},
   "outputs": [],
   "source": [
    "# Perform a one-sample t-test\n",
    "t_stat, p_value = stats.ttest_1samp(daily_sales, target_mean)"
   ]
  },
  {
   "cell_type": "markdown",
   "id": "1b96cefe",
   "metadata": {},
   "source": [
    "**T-Test:**\n",
    "\n",
    "A t-test is a type of inferential statistic used to determine if there is a significant difference between the means of two groups, which may be related in certain features. It is commonly used when the sample size is small, and the population standard deviation is unknown.\n",
    "\n",
    "There are several types of t-tests, but in the context of the example provided, we are using a **one-sample t-test.**\n",
    "\n",
    "\n",
    "**One-Sample T-Test:**\n",
    "\n",
    "A one-sample t-test compares the mean of a single sample to a known value (often a population mean or target value).\n",
    "\n",
    "**P-Value:**\n",
    "\n",
    "The p-value is a measure of the probability that an observed difference could have occurred just by random chance. It is used to determine the statistical significance of the results.\n",
    "\n",
    "\n",
    "\n",
    "### How They Work Together:\n",
    "\n",
    "#### Formulate Hypotheses:\n",
    "\n",
    " - Null Hypothesis (H0): The sample mean is equal to the target value (e.g., average daily sales are $500).\n",
    "\n",
    " - Alternative Hypothesis (H1): The sample mean is not equal to the target value (e.g., average daily sales are different from $500).\n",
    "\n",
    "#### Calculate the T-Statistic:\n",
    "Calculate the T-Statistic:\n",
    "The t-statistic measures how far the sample mean is from the target value in terms of the standard error of the mean.\n",
    "\n",
    "t = (x̄ - μ₀) / (s / √n)\n",
    "\n",
    "where:\n",
    "\n",
    "* `x̄` (sample mean)\n",
    "* `μ₀` (target value (population mean under the null hypothesis)\n",
    "* `s` (sample standard deviation)\n",
    "* `n` (sample size)\n",
    "\n",
    "\n",
    "#### Determine the P-Value:\n",
    "\n",
    "The p-value is derived from the t-statistic and indicates the probability of obtaining a test statistic at least as extreme as the one observed, assuming the null hypothesis is true.\n",
    "\n",
    "#### Compare P-Value to Significance Level (α):\n",
    "\n",
    "- If \n",
    "p≤α: Reject the null hypothesis (e.g., there is a significant difference from the target value).\n",
    "\n",
    "- If \n",
    "p>α: Fail to reject the null hypothesis (e.g., there is no significant difference from the target value).\n"
   ]
  },
  {
   "cell_type": "code",
   "execution_count": 18,
   "id": "0337020c",
   "metadata": {},
   "outputs": [
    {
     "name": "stdout",
     "output_type": "stream",
     "text": [
      "Sample Mean: 514.81\n",
      "Sample Standard Deviation: 45.41\n",
      "T-statistic: 3.26\n",
      "P-value: 0.0015\n"
     ]
    }
   ],
   "source": [
    "print(f\"Sample Mean: {sample_mean:.2f}\")\n",
    "print(f\"Sample Standard Deviation: {sample_std:.2f}\")\n",
    "print(f\"T-statistic: {t_stat:.2f}\")\n",
    "print(f\"P-value: {p_value:.4f}\")"
   ]
  },
  {
   "cell_type": "code",
   "execution_count": 19,
   "id": "66b6146f",
   "metadata": {},
   "outputs": [
    {
     "name": "stderr",
     "output_type": "stream",
     "text": [
      "C:\\Users\\shaku\\Ana\\Lib\\site-packages\\seaborn\\_oldcore.py:1119: FutureWarning: use_inf_as_na option is deprecated and will be removed in a future version. Convert inf values to NaN before operating instead.\n",
      "  with pd.option_context('mode.use_inf_as_na', True):\n"
     ]
    },
    {
     "data": {
      "image/png": "[encoded data removed]",
      "text/plain": [
       "<Figure size 800x500 with 1 Axes>"
      ]
     },
     "metadata": {},
     "output_type": "display_data"
    }
   ],
   "source": [
    "# Visualize the distribution of daily sales\n",
    "plt.figure(figsize=(8, 5))\n",
    "sns.histplot(daily_sales, kde=True)\n",
    "plt.axvline(target_mean, color='red', linestyle='dashed', linewidth=2)\n",
    "plt.title('Distribution of Daily Sales')\n",
    "plt.xlabel('Daily Sales ($)')\n",
    "plt.ylabel('Frequency')\n",
    "plt.show()"
   ]
  },
  {
   "cell_type": "markdown",
   "id": "b86493f7",
   "metadata": {},
   "source": [
    "***The histogram with the KDE (Kernel Density Estimate) and the target mean line provides insights into the sample data's distribution and its comparison to the target value. Here's a detailed explanation of the visual:***\n",
    "\n",
    "#### Visualization Breakdown:\n",
    "\n",
    "- Histogram:\n",
    "    - The histogram displays the frequency distribution of daily sales in the sample.\n",
    "    - The x-axis represents daily sales amounts in dollars.\n",
    "    - The y-axis represents the frequency of these sales amounts in the sample.\n",
    "\n",
    "\n",
    "- Kernel Density Estimate (KDE):\n",
    "    - The blue line overlaid on the histogram is the KDE, which provides a smoothed estimate of the data distribution.\n",
    "    - It helps visualize the distribution shape more clearly than the histogram alone.\n",
    "\n",
    "- Target Mean Line:\n",
    "    - The vertical red dashed line represents the target mean of $500.\n",
    "    \n",
    "    - This line allows us to visually compare the sample data's distribution to the target value.\n",
    "\n",
    "#### Interpretation:\n",
    "\n",
    "- Central Tendency:\n",
    "    - The highest bar in the histogram and the peak of the KDE line are around the target mean of $500.\n",
    "    \n",
    "    - This suggests that the most frequent daily sales amounts are close to $500.\n",
    "    \n",
    "\n",
    "- Spread and Variability:\n",
    "    - The histogram bars and the KDE line indicate the spread of the data around the mean.\n",
    "    \n",
    "    - There is a noticeable spread on both sides of the $500 mark, indicating variability in daily sales.\n",
    "    \n",
    "    - Sales values range approximately from $400   to   $600.\n",
    "\n",
    "- Comparison to Target Mean:\n",
    "    - The sample mean appears to be close to the target mean of $500, as indicated by the concentration of data around this value.\n",
    "    \n",
    "    - The bulk of the data is centered around the $500 mark, with some spread to both lower and higher values.\n",
    "    \n",
    "    - This visual closeness suggests that the sample mean might not be significantly different from the target mean.\n",
    "\n",
    "#### Statistical Significance:\n",
    "\n",
    "- To confirm the visual interpretation, we look at the results of the one-sample t-test:\n",
    "\n",
    "    - T-Statistic: Measures how far the sample mean is from the target mean in terms of standard errors.\n",
    "\n",
    "    - P-Value: Indicates the probability of obtaining a test statistic as extreme as the observed one, assuming the null hypothesis is true.\n",
    "\n",
    "#### Decision:\n",
    "If the p-value is less than or equal to the significance level (typically 0.05), we reject the null hypothesis, concluding that there is a significant difference between the sample mean and the target mean.\n",
    "If the p-value is greater than the significance level, we fail to reject the null hypothesis, concluding that there is no significant difference between the sample mean and the target mean.\n",
    "Given the visual indication that the sample mean is close to the target mean and assuming the p-value is not significantly low, we might fail to reject the null hypothesis, suggesting that the average daily sales are not significantly different from $500."
   ]
  },
  {
   "cell_type": "code",
   "execution_count": 20,
   "id": "572ae9a4",
   "metadata": {},
   "outputs": [
    {
     "name": "stdout",
     "output_type": "stream",
     "text": [
      "Reject the null hypothesis: The average daily sales are significantly different from $500.\n"
     ]
    }
   ],
   "source": [
    "# Decision based on p-value\n",
    "alpha = 0.05\n",
    "if p_value < alpha:\n",
    "    print(\"Reject the null hypothesis: The average daily sales are significantly different from $500.\")\n",
    "else:\n",
    "    print(\"Fail to reject the null hypothesis: There is no significant difference from $500.\")"
   ]
  }
 ],
 "metadata": {
  "kernelspec": {
   "display_name": "Python 3 (ipykernel)",
   "language": "python",
   "name": "python3"
  },
  "language_info": {
   "codemirror_mode": {
    "name": "ipython",
    "version": 3
   },
   "file_extension": ".py",
   "mimetype": "text/x-python",
   "name": "python",
   "nbconvert_exporter": "python",
   "pygments_lexer": "ipython3",
   "version": "3.11.7"
  }
 },
 "nbformat": 4,
 "nbformat_minor": 5
}
