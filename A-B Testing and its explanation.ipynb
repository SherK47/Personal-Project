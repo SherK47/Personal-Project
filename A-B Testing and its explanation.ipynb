{
 "cells": [
  {
   "cell_type": "markdown",
   "id": "3ad60966",
   "metadata": {},
   "source": [
    "# A/B Testing \n",
    "\n",
    "## Introduction to A/B Testing\n",
    "\n",
    "A/B testing, also known as split testing, is a method of comparing two versions of a webpage, product feature, or other user experience to determine which one performs better. By randomly assigning users to either the control group (A) or the treatment group (B), we can measure the effect of a single variable while controlling for other factors.\n"
   ]
  },
  {
   "cell_type": "markdown",
   "id": "dfd5fb25",
   "metadata": {},
   "source": [
    "### Key Concepts:\n",
    "\n",
    "1. **Hypothesis**: A statement that we want to test. Example: \"Changing the color of the call-to-action button from green to red will increase the click-through rate (CTR).\"\n",
    "2. **Control Group**: The group that sees the existing version (A).\n",
    "3. **Treatment Group**: The group that sees the new version (B).\n",
    "4. **Metric**: The measure of user behavior that we are interested in, such as CTR, conversion rate, etc.\n",
    "5. **Significance Level**: The threshold at which we determine whether the observed effect is statistically significant. Commonly set at 0.05.\n",
    "6. **P-Value**: The probability of observing the effect, or something more extreme, if the null hypothesis is true.\n",
    "7. **Confidence Interval**: A range of values that is likely to contain the true effect size."
   ]
  },
  {
   "cell_type": "markdown",
   "id": "678aeedd",
   "metadata": {},
   "source": [
    "\n",
    "### Steps to Conduct A/B Testing\n",
    "\n",
    "1. **Define the Objective**\n",
    "   - Identify the goal of the A/B test, such as increasing user engagement, conversion rates, or any other key metric.\n",
    "\n",
    "2. **Formulate the Hypothesis**\n",
    "   - Create a clear, testable hypothesis. For example, \"Adding a new feature will increase the average time users spend on the product.\"\n",
    "\n",
    "3. **Identify Key Metrics**\n",
    "   - Determine the primary metric that will measure the success of the test. This could be engagement time, conversion rate, click-through rate, etc.\n",
    "\n",
    "4. **Segment the Audience**\n",
    "   - Randomly split your audience into two groups: Control Group (A) and Treatment Group (B).\n",
    "\n",
    "5. **Ensure Randomization**\n",
    "   - Make sure the random assignment is truly random and that both groups are similar in composition.\n",
    "\n",
    "6. **Design the Experiment**\n",
    "   - **Control Group (A)**: This group will experience the existing version without any changes.\n",
    "   - **Treatment Group (B)**: This group will experience the new version with the changes or new feature.\n",
    "\n",
    "7. **Collect Data**\n",
    "   - Run the experiment for a sufficient duration to gather enough data. The duration depends on the sample size and the expected effect size.\n",
    "\n",
    "8. **Analyze the Results**\n",
    "   - Calculate the mean of the key metric for both groups.\n",
    "   - Perform statistical tests (e.g., t-test) to determine if there is a significant difference between the groups.\n",
    "   - Check the p-value against the significance level (commonly 0.05).\n",
    "\n",
    "9. **Interpret the Results**\n",
    "   - **P-Value**: If the p-value is less than the significance level, reject the null hypothesis. This indicates that the difference between the groups is statistically significant.\n",
    "   - **Confidence Interval**: Provide a range in which the true effect size lies with a certain level of confidence (usually 95%).\n",
    "\n",
    "10. **Make a Decision**\n",
    "    - Based on the analysis, decide whether to implement the change permanently, run another test, or discard the change.\n",
    "\n",
    "11. **Document the Findings**\n",
    "    - Record the methodology, data, statistical analysis, and conclusions for future reference and to share with stakeholders.\n",
    "\n",
    "12. **Monitor the Long-term Impact**\n",
    "    - Even after making the change, continue to monitor the key metrics to ensure that the observed improvements are sustained over time.\n",
    "\n",
    "\n"
   ]
  },
  {
   "cell_type": "markdown",
   "id": "2dd49dfb",
   "metadata": {},
   "source": [
    "### Example Scenario: Product Analysis\n",
    "\n",
    "**Objective**: Increase user engagement with a new feature.\n",
    "\n",
    "**Hypothesis**: Adding the new feature will increase the average time users spend on the product.\n",
    "\n",
    "**Metric**: Average time spent on the product per session.\n",
    "\n",
    "**Experiment Design**:\n",
    "- **Control Group (A)**: Uses the product without the new feature.\n",
    "- **Treatment Group (B)**: Uses the product with the new feature.\n",
    "\n",
    "### Simulating the A/B Test\n"
   ]
  },
  {
   "cell_type": "markdown",
   "id": "0a70a172",
   "metadata": {},
   "source": [
    "# Importing necessary libraries\n"
   ]
  },
  {
   "cell_type": "code",
   "execution_count": 2,
   "id": "be521ab5",
   "metadata": {},
   "outputs": [],
   "source": [
    "import numpy as np\n",
    "import pandas as pd\n",
    "from scipy import stats\n",
    "import matplotlib.pyplot as plt\n",
    "import seaborn as sns\n"
   ]
  },
  {
   "cell_type": "markdown",
   "id": "d3394f8f",
   "metadata": {},
   "source": [
    "#### Set random seed for reproducibility\n"
   ]
  },
  {
   "cell_type": "code",
   "execution_count": 3,
   "id": "83a34a36",
   "metadata": {},
   "outputs": [],
   "source": [
    "np.random.seed(42)\n"
   ]
  },
  {
   "cell_type": "markdown",
   "id": "d24489dd",
   "metadata": {},
   "source": [
    "#### Step 1: Define the Objective\n"
   ]
  },
  {
   "cell_type": "code",
   "execution_count": 4,
   "id": "f78821f5",
   "metadata": {},
   "outputs": [],
   "source": [
    "objective = \"Increase user engagement with a new feature\"\n"
   ]
  },
  {
   "cell_type": "markdown",
   "id": "fc43fe43",
   "metadata": {},
   "source": [
    "#### Step 2: Formulate the Hypothesis\n"
   ]
  },
  {
   "cell_type": "code",
   "execution_count": 5,
   "id": "ec74129d",
   "metadata": {},
   "outputs": [],
   "source": [
    "hypothesis = \"Adding the new feature will increase the average time users spend on the product\"\n"
   ]
  },
  {
   "cell_type": "markdown",
   "id": "a92e5f9e",
   "metadata": {},
   "source": [
    "#### Step 3: Identify Key Metrics\n"
   ]
  },
  {
   "cell_type": "code",
   "execution_count": 6,
   "id": "dd80983f",
   "metadata": {},
   "outputs": [],
   "source": [
    "metric = \"Average time spent on the product per session\"\n"
   ]
  },
  {
   "cell_type": "markdown",
   "id": "f80b040a",
   "metadata": {},
   "source": [
    "#### Step 4: Segment the Audience\n",
    "#### Sample size for each group\n"
   ]
  },
  {
   "cell_type": "code",
   "execution_count": 7,
   "id": "d1aff982",
   "metadata": {},
   "outputs": [],
   "source": [
    "n_A = n_B = 1000\n"
   ]
  },
  {
   "cell_type": "markdown",
   "id": "d13152dc",
   "metadata": {},
   "source": [
    "#### Step 5: Ensure Randomization\n",
    "#### Randomly split the audience into two groups: Control Group (A) and Treatment Group (B)\n",
    "#### No further action needed as we use numpy's random functions which already provide randomization\n"
   ]
  },
  {
   "cell_type": "markdown",
   "id": "ebe09262",
   "metadata": {},
   "source": [
    "\n",
    "#### Step 6: Design the Experiment\n",
    "#### Control Group (A): Uses the product without the new feature\n",
    "#### Treatment Group (B): Uses the product with the new feature\n"
   ]
  },
  {
   "cell_type": "markdown",
   "id": "aeea4309",
   "metadata": {},
   "source": [
    "#### Step 7: Collect Data\n",
    "#### Simulate user engagement time (in minutes) for both groups\n",
    "#### Control group (A) average engagement time: 10 minutes, standard deviation: 2 minutes\n",
    "#### Treatment group (B) average engagement time: 12 minutes, standard deviation: 2.5 minutes\n"
   ]
  },
  {
   "cell_type": "code",
   "execution_count": 8,
   "id": "8f23fc3b",
   "metadata": {},
   "outputs": [],
   "source": [
    "engagement_time_A = np.random.normal(10, 2, n_A)\n",
    "engagement_time_B = np.random.normal(12, 2.5, n_B)\n"
   ]
  },
  {
   "cell_type": "markdown",
   "id": "bcc8010f",
   "metadata": {},
   "source": [
    "#### Step 8: Analyze the Results\n",
    "#### Calculate the mean engagement times\n"
   ]
  },
  {
   "cell_type": "code",
   "execution_count": 9,
   "id": "f65da961",
   "metadata": {},
   "outputs": [],
   "source": [
    "mean_engagement_A = engagement_time_A.mean()\n",
    "mean_engagement_B = engagement_time_B.mean()"
   ]
  },
  {
   "cell_type": "code",
   "execution_count": 10,
   "id": "ae682125",
   "metadata": {},
   "outputs": [
    {
     "name": "stdout",
     "output_type": "stream",
     "text": [
      "Mean engagement time for Control Group (A): 10.04 minutes\n",
      "Mean engagement time for Treatment Group (B): 12.18 minutes\n"
     ]
    }
   ],
   "source": [
    "print(f\"Mean engagement time for Control Group (A): {mean_engagement_A:.2f} minutes\")\n",
    "print(f\"Mean engagement time for Treatment Group (B): {mean_engagement_B:.2f} minutes\")"
   ]
  },
  {
   "cell_type": "markdown",
   "id": "26654634",
   "metadata": {},
   "source": [
    "#### Perform a t-test to compare the means\n"
   ]
  },
  {
   "cell_type": "markdown",
   "id": "46229392",
   "metadata": {},
   "source": [
    "- A t-test is a statistical test used to determine if there is a significant difference between the means of two groups. It is commonly used in A/B testing scenarios to compare the performance of a control group (A) against a treatment group (B). The t-test calculates a statistic called the t-statistic, which measures the difference between the means of the two groups relative to the variation within the groups.\n",
    "\n",
    "- The p-value, on the other hand, is a probability value that helps assess the strength of evidence against the null hypothesis. In the context of an A/B test, the null hypothesis usually states that there is no difference between the groups (i.e., the treatment has no effect). The p-value indicates the probability of observing the effect (or something more extreme) if the null hypothesis is true. A low p-value (typically below a predefined significance level, often 0.05) suggests that the observed difference between the groups is unlikely to occur by random chance alone, leading to the rejection of the null hypothesis.\n",
    "\n",
    "- We use a t-test in A/B testing because it is appropriate for comparing the means of two groups, especially when the sample sizes are relatively small (less than 30) and the population standard deviations are unknown. The t-test accounts for the variability within each group and provides a reliable measure of whether the observed difference in means is statistically significant. This helps us determine whether the difference is likely due to the treatment or simply due to chance."
   ]
  },
  {
   "cell_type": "code",
   "execution_count": 11,
   "id": "16998074",
   "metadata": {},
   "outputs": [],
   "source": [
    "t_stat, p_value = stats.ttest_ind(engagement_time_A, engagement_time_B)"
   ]
  },
  {
   "cell_type": "code",
   "execution_count": 12,
   "id": "11eb9af1",
   "metadata": {},
   "outputs": [
    {
     "name": "stdout",
     "output_type": "stream",
     "text": [
      "T-statistic: -21.3271\n",
      "P-value: 0.0000\n"
     ]
    }
   ],
   "source": [
    "print(f\"T-statistic: {t_stat:.4f}\")\n",
    "print(f\"P-value: {p_value:.4f}\")"
   ]
  },
  {
   "cell_type": "markdown",
   "id": "d40a1b8e",
   "metadata": {},
   "source": [
    "- A t-statistic of -21.3271 indicates a significant difference between the means of the two groups being compared. The negative sign simply indicates that the mean of the first group (Control Group A) is lower than the mean of the second group (Treatment Group B), which is expected given the context of the experiment.\n",
    "\n",
    "- The p-value of 0.0000 means that the probability of observing such an extreme difference in means (or more extreme) if there were truly no difference between the groups is essentially zero. In other words, it is highly unlikely to observe such a large difference in means purely by chance.\n",
    "\n",
    "- In practical terms, this result suggests strong evidence against the null hypothesis, which typically states that there is no difference between the groups or that the treatment has no effect. With such a low p-value, we reject the null hypothesis and conclude that there is a statistically significant difference between the two groups in terms of the metric being measured (in this case, user engagement time)."
   ]
  },
  {
   "cell_type": "markdown",
   "id": "23f255ea",
   "metadata": {},
   "source": [
    "#### Check if the result is statistically significant\n"
   ]
  },
  {
   "cell_type": "code",
   "execution_count": 13,
   "id": "a10b52c9",
   "metadata": {},
   "outputs": [
    {
     "name": "stdout",
     "output_type": "stream",
     "text": [
      "We reject the null hypothesis. The difference in engagement times is statistically significant.\n"
     ]
    }
   ],
   "source": [
    "alpha = 0.05\n",
    "if p_value < alpha:\n",
    "    print(\"We reject the null hypothesis. The difference in engagement times is statistically significant.\")\n",
    "else:\n",
    "    print(\"We fail to reject the null hypothesis. The difference in engagement times is not statistically significant.\")\n"
   ]
  },
  {
   "cell_type": "markdown",
   "id": "51dd49f2",
   "metadata": {},
   "source": [
    "#### Step 9: Interpret the Results\n",
    "#### Visualize the distributions\n"
   ]
  },
  {
   "cell_type": "code",
   "execution_count": 15,
   "id": "b53ea571",
   "metadata": {},
   "outputs": [
    {
     "name": "stderr",
     "output_type": "stream",
     "text": [
      "C:\\Users\\shaku\\Ana\\Lib\\site-packages\\seaborn\\_oldcore.py:1119: FutureWarning: use_inf_as_na option is deprecated and will be removed in a future version. Convert inf values to NaN before operating instead.\n",
      "  with pd.option_context('mode.use_inf_as_na', True):\n",
      "C:\\Users\\shaku\\Ana\\Lib\\site-packages\\seaborn\\_oldcore.py:1119: FutureWarning: use_inf_as_na option is deprecated and will be removed in a future version. Convert inf values to NaN before operating instead.\n",
      "  with pd.option_context('mode.use_inf_as_na', True):\n"
     ]
    },
    {
     "data": {
      "image/png": "[encoded data removed]",
      "text/plain": [
       "<Figure size 1200x600 with 1 Axes>"
      ]
     },
     "metadata": {},
     "output_type": "display_data"
    }
   ],
   "source": [
    "plt.figure(figsize=(12, 6))\n",
    "sns.histplot(engagement_time_A, kde=True, color='blue', label='Control Group (A)', bins=30)\n",
    "sns.histplot(engagement_time_B, kde=True, color='green', label='Treatment Group (B)', bins=30)\n",
    "plt.xlabel('Engagement Time (minutes)')\n",
    "plt.ylabel('Frequency')\n",
    "plt.title('Distribution of User Engagement Time')\n",
    "plt.legend()\n",
    "plt.show()\n"
   ]
  },
  {
   "cell_type": "markdown",
   "id": "6ee44c32",
   "metadata": {},
   "source": [
    "## Why A/B testing is important?"
   ]
  },
  {
   "cell_type": "markdown",
   "id": "67937334",
   "metadata": {},
   "source": [
    "A/B testing is important for several reasons:\n",
    "\n",
    "1. **Data-Driven Decision Making**: A/B testing allows organizations to make decisions based on data rather than assumptions or opinions. By testing different versions of a product or feature, companies can objectively determine which version performs better with their audience.\n",
    "\n",
    "2. **Optimizing User Experience**: A/B testing helps optimize user experience by identifying changes that lead to improved metrics such as engagement, conversion rates, or user satisfaction. This iterative process allows companies to continuously refine their products and services to better meet user needs.\n",
    "\n",
    "3. **Mitigating Risk**: A/B testing reduces the risk associated with making significant changes to a product or website. Instead of implementing changes across the entire user base and potentially causing negative impacts, A/B testing allows changes to be tested on a smaller subset of users before full rollout.\n",
    "\n",
    "4. **Maximizing ROI**: A/B testing helps maximize return on investment (ROI) by ensuring that resources are allocated to changes that have the greatest positive impact. By focusing on changes that lead to measurable improvements, companies can optimize their resources and achieve better outcomes.\n",
    "\n",
    "5. **Understanding User Behavior**: A/B testing provides insights into user behavior and preferences. By analyzing how users respond to different variations, companies gain a deeper understanding of what resonates with their audience and can tailor their offerings accordingly.\n",
    "\n",
    "6. **Continuous Improvement**: A/B testing fosters a culture of continuous improvement within organizations. By constantly testing and iterating, companies can stay competitive in a rapidly evolving market and maintain a high level of customer satisfaction.\n",
    "\n",
    "Overall, A/B testing is a powerful tool for optimizing products, increasing conversion rates, and driving business growth. It allows companies to make informed decisions, mitigate risks, and stay ahead of the competition in today's data-driven world."
   ]
  },
  {
   "cell_type": "code",
   "execution_count": null,
   "id": "06834d01",
   "metadata": {},
   "outputs": [],
   "source": []
  }
 ],
 "metadata": {
  "kernelspec": {
   "display_name": "Python 3 (ipykernel)",
   "language": "python",
   "name": "python3"
  },
  "language_info": {
   "codemirror_mode": {
    "name": "ipython",
    "version": 3
   },
   "file_extension": ".py",
   "mimetype": "text/x-python",
   "name": "python",
   "nbconvert_exporter": "python",
   "pygments_lexer": "ipython3",
   "version": "3.11.7"
  }
 },
 "nbformat": 4,
 "nbformat_minor": 5
}
