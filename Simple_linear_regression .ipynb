{
 "cells": [
  {
   "cell_type": "code",
   "execution_count": 1,
   "id": "cd7e21a9",
   "metadata": {},
   "outputs": [],
   "source": [
    "import pandas as pd\n",
    "import matplotlib.pyplot as plt\n",
    "import numpy as np"
   ]
  },
  {
   "cell_type": "markdown",
   "id": "89471a97",
   "metadata": {},
   "source": [
    "## What is simple linear regression ?"
   ]
  },
  {
   "cell_type": "markdown",
   "id": "2614179e",
   "metadata": {},
   "source": [
    "Simple Linear Regression is a statistical method used to model the relationship between two continuous variables: one independent variable (also called the predictor or feature) and one dependent variable (also called the response or target). It assumes that the relationship between these two variables can be represented by a linear equation, which is a straight line in a two-dimensional space.\n",
    "\n",
    "In simple linear regression, the goal is to find the best-fitting linear equation that minimizes the difference between the observed values of the dependent variable and the values predicted by the model.\n",
    "\n",
    "The equation for a simple linear regression line can be written as:\n",
    "𝑦=𝛽0+𝛽1⋅𝑥+𝜀"
   ]
  },
  {
   "cell_type": "markdown",
   "id": "78ff84ff",
   "metadata": {},
   "source": [
    "Where:\n",
    "\n",
    "- \\( y \\) represents the dependent variable (response).\n",
    "- \\( x \\) represents the independent variable (predictor).\n",
    "- \\( 𝛽0 ) is the intercept term, representing the value of \\( y \\) when \\( x \\) is 0.\n",
    "- \\( 𝛽1 ) is the slope coefficient, representing the change in \\( y \\) for a unit change in \\( x \\).\n",
    "- \\( ε ) represents the error term, accounting for the variability that cannot be explained by the model."
   ]
  },
  {
   "cell_type": "markdown",
   "id": "d1cf83e8",
   "metadata": {},
   "source": [
    "#### Now Loading dataset"
   ]
  },
  {
   "cell_type": "code",
   "execution_count": 2,
   "id": "8fab0d2d",
   "metadata": {},
   "outputs": [],
   "source": [
    "df = pd.read_csv(\"Salary_dataset.csv\")"
   ]
  },
  {
   "cell_type": "markdown",
   "id": "0a615617",
   "metadata": {},
   "source": [
    "#### Displaying the DataFrame"
   ]
  },
  {
   "cell_type": "code",
   "execution_count": 3,
   "id": "17c39467",
   "metadata": {},
   "outputs": [
    {
     "data": {
      "text/html": [
       "<div>\n",
       "<style scoped>\n",
       "    .dataframe tbody tr th:only-of-type {\n",
       "        vertical-align: middle;\n",
       "    }\n",
       "\n",
       "    .dataframe tbody tr th {\n",
       "        vertical-align: top;\n",
       "    }\n",
       "\n",
       "    .dataframe thead th {\n",
       "        text-align: right;\n",
       "    }\n",
       "</style>\n",
       "<table border=\"1\" class=\"dataframe\">\n",
       "  <thead>\n",
       "    <tr style=\"text-align: right;\">\n",
       "      <th></th>\n",
       "      <th>Unnamed: 0</th>\n",
       "      <th>YearsExperience</th>\n",
       "      <th>Salary</th>\n",
       "    </tr>\n",
       "  </thead>\n",
       "  <tbody>\n",
       "    <tr>\n",
       "      <th>0</th>\n",
       "      <td>0</td>\n",
       "      <td>1.2</td>\n",
       "      <td>39344.0</td>\n",
       "    </tr>\n",
       "    <tr>\n",
       "      <th>1</th>\n",
       "      <td>1</td>\n",
       "      <td>1.4</td>\n",
       "      <td>46206.0</td>\n",
       "    </tr>\n",
       "    <tr>\n",
       "      <th>2</th>\n",
       "      <td>2</td>\n",
       "      <td>1.6</td>\n",
       "      <td>37732.0</td>\n",
       "    </tr>\n",
       "    <tr>\n",
       "      <th>3</th>\n",
       "      <td>3</td>\n",
       "      <td>2.1</td>\n",
       "      <td>43526.0</td>\n",
       "    </tr>\n",
       "    <tr>\n",
       "      <th>4</th>\n",
       "      <td>4</td>\n",
       "      <td>2.3</td>\n",
       "      <td>39892.0</td>\n",
       "    </tr>\n",
       "  </tbody>\n",
       "</table>\n",
       "</div>"
      ],
      "text/plain": [
       "   Unnamed: 0  YearsExperience   Salary\n",
       "0           0              1.2  39344.0\n",
       "1           1              1.4  46206.0\n",
       "2           2              1.6  37732.0\n",
       "3           3              2.1  43526.0\n",
       "4           4              2.3  39892.0"
      ]
     },
     "execution_count": 3,
     "metadata": {},
     "output_type": "execute_result"
    }
   ],
   "source": [
    "df.head()"
   ]
  },
  {
   "cell_type": "markdown",
   "id": "d8ff3add",
   "metadata": {},
   "source": [
    "In the provided dataframe, it is apparent that the column labeled '__unnamed:0__' serves no meaningful purpose and, furthermore, appears to function akin to an index column. Thus, removing this column would be both logical and beneficial."
   ]
  },
  {
   "cell_type": "code",
   "execution_count": 4,
   "id": "93a280a6",
   "metadata": {},
   "outputs": [
    {
     "data": {
      "text/plain": [
       "Index(['Unnamed: 0', 'YearsExperience', 'Salary'], dtype='object')"
      ]
     },
     "execution_count": 4,
     "metadata": {},
     "output_type": "execute_result"
    }
   ],
   "source": [
    "df.columns"
   ]
  },
  {
   "cell_type": "markdown",
   "id": "0ae2e9fd",
   "metadata": {},
   "source": [
    "#### Dropping the column "
   ]
  },
  {
   "cell_type": "code",
   "execution_count": 5,
   "id": "59b9a03b",
   "metadata": {},
   "outputs": [],
   "source": [
    "df.drop('Unnamed: 0', axis=1, inplace = True)"
   ]
  },
  {
   "cell_type": "code",
   "execution_count": 6,
   "id": "f563d789",
   "metadata": {},
   "outputs": [
    {
     "data": {
      "text/html": [
       "<div>\n",
       "<style scoped>\n",
       "    .dataframe tbody tr th:only-of-type {\n",
       "        vertical-align: middle;\n",
       "    }\n",
       "\n",
       "    .dataframe tbody tr th {\n",
       "        vertical-align: top;\n",
       "    }\n",
       "\n",
       "    .dataframe thead th {\n",
       "        text-align: right;\n",
       "    }\n",
       "</style>\n",
       "<table border=\"1\" class=\"dataframe\">\n",
       "  <thead>\n",
       "    <tr style=\"text-align: right;\">\n",
       "      <th></th>\n",
       "      <th>YearsExperience</th>\n",
       "      <th>Salary</th>\n",
       "    </tr>\n",
       "  </thead>\n",
       "  <tbody>\n",
       "    <tr>\n",
       "      <th>0</th>\n",
       "      <td>1.2</td>\n",
       "      <td>39344.0</td>\n",
       "    </tr>\n",
       "    <tr>\n",
       "      <th>1</th>\n",
       "      <td>1.4</td>\n",
       "      <td>46206.0</td>\n",
       "    </tr>\n",
       "    <tr>\n",
       "      <th>2</th>\n",
       "      <td>1.6</td>\n",
       "      <td>37732.0</td>\n",
       "    </tr>\n",
       "    <tr>\n",
       "      <th>3</th>\n",
       "      <td>2.1</td>\n",
       "      <td>43526.0</td>\n",
       "    </tr>\n",
       "    <tr>\n",
       "      <th>4</th>\n",
       "      <td>2.3</td>\n",
       "      <td>39892.0</td>\n",
       "    </tr>\n",
       "  </tbody>\n",
       "</table>\n",
       "</div>"
      ],
      "text/plain": [
       "   YearsExperience   Salary\n",
       "0              1.2  39344.0\n",
       "1              1.4  46206.0\n",
       "2              1.6  37732.0\n",
       "3              2.1  43526.0\n",
       "4              2.3  39892.0"
      ]
     },
     "execution_count": 6,
     "metadata": {},
     "output_type": "execute_result"
    }
   ],
   "source": [
    "df.head()"
   ]
  },
  {
   "cell_type": "markdown",
   "id": "92fb91f5",
   "metadata": {},
   "source": [
    "#### Checking any null values in the datatframe"
   ]
  },
  {
   "cell_type": "code",
   "execution_count": 7,
   "id": "e664b611",
   "metadata": {},
   "outputs": [
    {
     "data": {
      "text/plain": [
       "YearsExperience    0\n",
       "Salary             0\n",
       "dtype: int64"
      ]
     },
     "execution_count": 7,
     "metadata": {},
     "output_type": "execute_result"
    }
   ],
   "source": [
    "df.isnull().sum()"
   ]
  },
  {
   "cell_type": "markdown",
   "id": "366d8aa3",
   "metadata": {},
   "source": [
    "#### Getting the statistics of dataframe"
   ]
  },
  {
   "cell_type": "code",
   "execution_count": 8,
   "id": "44c11218",
   "metadata": {},
   "outputs": [
    {
     "data": {
      "text/html": [
       "<div>\n",
       "<style scoped>\n",
       "    .dataframe tbody tr th:only-of-type {\n",
       "        vertical-align: middle;\n",
       "    }\n",
       "\n",
       "    .dataframe tbody tr th {\n",
       "        vertical-align: top;\n",
       "    }\n",
       "\n",
       "    .dataframe thead th {\n",
       "        text-align: right;\n",
       "    }\n",
       "</style>\n",
       "<table border=\"1\" class=\"dataframe\">\n",
       "  <thead>\n",
       "    <tr style=\"text-align: right;\">\n",
       "      <th></th>\n",
       "      <th>YearsExperience</th>\n",
       "      <th>Salary</th>\n",
       "    </tr>\n",
       "  </thead>\n",
       "  <tbody>\n",
       "    <tr>\n",
       "      <th>count</th>\n",
       "      <td>30.000000</td>\n",
       "      <td>30.000000</td>\n",
       "    </tr>\n",
       "    <tr>\n",
       "      <th>mean</th>\n",
       "      <td>5.413333</td>\n",
       "      <td>76004.000000</td>\n",
       "    </tr>\n",
       "    <tr>\n",
       "      <th>std</th>\n",
       "      <td>2.837888</td>\n",
       "      <td>27414.429785</td>\n",
       "    </tr>\n",
       "    <tr>\n",
       "      <th>min</th>\n",
       "      <td>1.200000</td>\n",
       "      <td>37732.000000</td>\n",
       "    </tr>\n",
       "    <tr>\n",
       "      <th>25%</th>\n",
       "      <td>3.300000</td>\n",
       "      <td>56721.750000</td>\n",
       "    </tr>\n",
       "    <tr>\n",
       "      <th>50%</th>\n",
       "      <td>4.800000</td>\n",
       "      <td>65238.000000</td>\n",
       "    </tr>\n",
       "    <tr>\n",
       "      <th>75%</th>\n",
       "      <td>7.800000</td>\n",
       "      <td>100545.750000</td>\n",
       "    </tr>\n",
       "    <tr>\n",
       "      <th>max</th>\n",
       "      <td>10.600000</td>\n",
       "      <td>122392.000000</td>\n",
       "    </tr>\n",
       "  </tbody>\n",
       "</table>\n",
       "</div>"
      ],
      "text/plain": [
       "       YearsExperience         Salary\n",
       "count        30.000000      30.000000\n",
       "mean          5.413333   76004.000000\n",
       "std           2.837888   27414.429785\n",
       "min           1.200000   37732.000000\n",
       "25%           3.300000   56721.750000\n",
       "50%           4.800000   65238.000000\n",
       "75%           7.800000  100545.750000\n",
       "max          10.600000  122392.000000"
      ]
     },
     "execution_count": 8,
     "metadata": {},
     "output_type": "execute_result"
    }
   ],
   "source": [
    "df.describe()"
   ]
  },
  {
   "cell_type": "markdown",
   "id": "410d0b59",
   "metadata": {},
   "source": [
    "### Now\n",
    "\n",
    "\n",
    "**Visualizing the input variable:**\n",
    "- Input variable: Years of experience\n",
    "\n",
    "**Visualizing the output variable:**\n",
    "- Output variable: Salary\n"
   ]
  },
  {
   "cell_type": "code",
   "execution_count": 9,
   "id": "bf0c104b",
   "metadata": {},
   "outputs": [
    {
     "data": {
      "image/png": "[encoded data removed]",
      "text/plain": [
       "<Figure size 640x480 with 1 Axes>"
      ]
     },
     "metadata": {},
     "output_type": "display_data"
    }
   ],
   "source": [
    "plt.scatter(df['YearsExperience'], df['Salary'])\n",
    "plt.xlabel(\"Years_of_experience\")\n",
    "plt.ylabel(\"Salary\")\n",
    "plt.show()"
   ]
  },
  {
   "cell_type": "code",
   "execution_count": 10,
   "id": "343e3bc8",
   "metadata": {},
   "outputs": [],
   "source": [
    "x = df.iloc[:,0:1].values\n",
    "y = df.iloc[:,-1].values"
   ]
  },
  {
   "cell_type": "code",
   "execution_count": 11,
   "id": "2e74e034",
   "metadata": {},
   "outputs": [
    {
     "data": {
      "text/plain": [
       "array([[ 1.2],\n",
       "       [ 1.4],\n",
       "       [ 1.6],\n",
       "       [ 2.1],\n",
       "       [ 2.3],\n",
       "       [ 3. ],\n",
       "       [ 3.1],\n",
       "       [ 3.3],\n",
       "       [ 3.3],\n",
       "       [ 3.8],\n",
       "       [ 4. ],\n",
       "       [ 4.1],\n",
       "       [ 4.1],\n",
       "       [ 4.2],\n",
       "       [ 4.6],\n",
       "       [ 5. ],\n",
       "       [ 5.2],\n",
       "       [ 5.4],\n",
       "       [ 6. ],\n",
       "       [ 6.1],\n",
       "       [ 6.9],\n",
       "       [ 7.2],\n",
       "       [ 8. ],\n",
       "       [ 8.3],\n",
       "       [ 8.8],\n",
       "       [ 9.1],\n",
       "       [ 9.6],\n",
       "       [ 9.7],\n",
       "       [10.4],\n",
       "       [10.6]])"
      ]
     },
     "execution_count": 11,
     "metadata": {},
     "output_type": "execute_result"
    }
   ],
   "source": [
    "x"
   ]
  },
  {
   "cell_type": "code",
   "execution_count": 12,
   "id": "f3bb7f2c",
   "metadata": {},
   "outputs": [
    {
     "data": {
      "text/plain": [
       "array([ 39344.,  46206.,  37732.,  43526.,  39892.,  56643.,  60151.,\n",
       "        54446.,  64446.,  57190.,  63219.,  55795.,  56958.,  57082.,\n",
       "        61112.,  67939.,  66030.,  83089.,  81364.,  93941.,  91739.,\n",
       "        98274., 101303., 113813., 109432., 105583., 116970., 112636.,\n",
       "       122392., 121873.])"
      ]
     },
     "execution_count": 12,
     "metadata": {},
     "output_type": "execute_result"
    }
   ],
   "source": [
    "y"
   ]
  },
  {
   "cell_type": "markdown",
   "id": "047e4866",
   "metadata": {},
   "source": [
    "#### Obtaining the dimensions of the x and y variables."
   ]
  },
  {
   "cell_type": "code",
   "execution_count": 13,
   "id": "366f4abb",
   "metadata": {},
   "outputs": [
    {
     "name": "stdout",
     "output_type": "stream",
     "text": [
      "(30, 1)\n",
      "(30,)\n"
     ]
    }
   ],
   "source": [
    "print(x.shape)\n",
    "print(y.shape)"
   ]
  },
  {
   "cell_type": "markdown",
   "id": "9ef68ecd",
   "metadata": {},
   "source": [
    "#### Splitting the datatset. "
   ]
  },
  {
   "cell_type": "code",
   "execution_count": 14,
   "id": "ec92480c",
   "metadata": {},
   "outputs": [],
   "source": [
    "from sklearn.model_selection import train_test_split\n",
    "x_train, x_test, y_train, y_test = train_test_split(x,y,test_size=0.3,random_state=43)"
   ]
  },
  {
   "cell_type": "code",
   "execution_count": 15,
   "id": "1e5d8dcb",
   "metadata": {},
   "outputs": [
    {
     "data": {
      "text/plain": [
       "array([[10.6],\n",
       "       [ 3. ],\n",
       "       [ 8.8],\n",
       "       [ 9.6],\n",
       "       [ 8.3],\n",
       "       [ 8. ],\n",
       "       [ 5. ],\n",
       "       [ 1.4],\n",
       "       [ 4.1],\n",
       "       [ 6. ],\n",
       "       [ 2.1],\n",
       "       [10.4],\n",
       "       [ 4.6],\n",
       "       [ 1.6],\n",
       "       [ 9.7],\n",
       "       [ 6.1],\n",
       "       [ 5.2],\n",
       "       [ 7.2],\n",
       "       [ 5.4],\n",
       "       [ 1.2],\n",
       "       [ 2.3]])"
      ]
     },
     "execution_count": 15,
     "metadata": {},
     "output_type": "execute_result"
    }
   ],
   "source": [
    "x_train"
   ]
  },
  {
   "cell_type": "markdown",
   "id": "af2c0c40",
   "metadata": {},
   "source": [
    "#### Training."
   ]
  },
  {
   "cell_type": "code",
   "execution_count": 16,
   "id": "d7ae921b",
   "metadata": {},
   "outputs": [
    {
     "data": {
      "text/html": [
       "<style>#sk-container-id-1 {color: black;background-color: white;}#sk-container-id-1 pre{padding: 0;}#sk-container-id-1 div.sk-toggleable {background-color: white;}#sk-container-id-1 label.sk-toggleable__label {cursor: pointer;display: block;width: 100%;margin-bottom: 0;padding: 0.3em;box-sizing: border-box;text-align: center;}#sk-container-id-1 label.sk-toggleable__label-arrow:before {content: \"▸\";float: left;margin-right: 0.25em;color: #696969;}#sk-container-id-1 label.sk-toggleable__label-arrow:hover:before {color: black;}#sk-container-id-1 div.sk-estimator:hover label.sk-toggleable__label-arrow:before {color: black;}#sk-container-id-1 div.sk-toggleable__content {max-height: 0;max-width: 0;overflow: hidden;text-align: left;background-color: #f0f8ff;}#sk-container-id-1 div.sk-toggleable__content pre {margin: 0.2em;color: black;border-radius: 0.25em;background-color: #f0f8ff;}#sk-container-id-1 input.sk-toggleable__control:checked~div.sk-toggleable__content {max-height: 200px;max-width: 100%;overflow: auto;}#sk-container-id-1 input.sk-toggleable__control:checked~label.sk-toggleable__label-arrow:before {content: \"▾\";}#sk-container-id-1 div.sk-estimator input.sk-toggleable__control:checked~label.sk-toggleable__label {background-color: #d4ebff;}#sk-container-id-1 div.sk-label input.sk-toggleable__control:checked~label.sk-toggleable__label {background-color: #d4ebff;}#sk-container-id-1 input.sk-hidden--visually {border: 0;clip: rect(1px 1px 1px 1px);clip: rect(1px, 1px, 1px, 1px);height: 1px;margin: -1px;overflow: hidden;padding: 0;position: absolute;width: 1px;}#sk-container-id-1 div.sk-estimator {font-family: monospace;background-color: #f0f8ff;border: 1px dotted black;border-radius: 0.25em;box-sizing: border-box;margin-bottom: 0.5em;}#sk-container-id-1 div.sk-estimator:hover {background-color: #d4ebff;}#sk-container-id-1 div.sk-parallel-item::after {content: \"\";width: 100%;border-bottom: 1px solid gray;flex-grow: 1;}#sk-container-id-1 div.sk-label:hover label.sk-toggleable__label {background-color: #d4ebff;}#sk-container-id-1 div.sk-serial::before {content: \"\";position: absolute;border-left: 1px solid gray;box-sizing: border-box;top: 0;bottom: 0;left: 50%;z-index: 0;}#sk-container-id-1 div.sk-serial {display: flex;flex-direction: column;align-items: center;background-color: white;padding-right: 0.2em;padding-left: 0.2em;position: relative;}#sk-container-id-1 div.sk-item {position: relative;z-index: 1;}#sk-container-id-1 div.sk-parallel {display: flex;align-items: stretch;justify-content: center;background-color: white;position: relative;}#sk-container-id-1 div.sk-item::before, #sk-container-id-1 div.sk-parallel-item::before {content: \"\";position: absolute;border-left: 1px solid gray;box-sizing: border-box;top: 0;bottom: 0;left: 50%;z-index: -1;}#sk-container-id-1 div.sk-parallel-item {display: flex;flex-direction: column;z-index: 1;position: relative;background-color: white;}#sk-container-id-1 div.sk-parallel-item:first-child::after {align-self: flex-end;width: 50%;}#sk-container-id-1 div.sk-parallel-item:last-child::after {align-self: flex-start;width: 50%;}#sk-container-id-1 div.sk-parallel-item:only-child::after {width: 0;}#sk-container-id-1 div.sk-dashed-wrapped {border: 1px dashed gray;margin: 0 0.4em 0.5em 0.4em;box-sizing: border-box;padding-bottom: 0.4em;background-color: white;}#sk-container-id-1 div.sk-label label {font-family: monospace;font-weight: bold;display: inline-block;line-height: 1.2em;}#sk-container-id-1 div.sk-label-container {text-align: center;}#sk-container-id-1 div.sk-container {/* jupyter's `normalize.less` sets `[hidden] { display: none; }` but bootstrap.min.css set `[hidden] { display: none !important; }` so we also need the `!important` here to be able to override the default hidden behavior on the sphinx rendered scikit-learn.org. See: https://github.com/scikit-learn/scikit-learn/issues/21755 */display: inline-block !important;position: relative;}#sk-container-id-1 div.sk-text-repr-fallback {display: none;}</style><div id=\"sk-container-id-1\" class=\"sk-top-container\"><div class=\"sk-text-repr-fallback\"><pre>LinearRegression()</pre><b>In a Jupyter environment, please rerun this cell to show the HTML representation or trust the notebook. <br />On GitHub, the HTML representation is unable to render, please try loading this page with nbviewer.org.</b></div><div class=\"sk-container\" hidden><div class=\"sk-item\"><div class=\"sk-estimator sk-toggleable\"><input class=\"sk-toggleable__control sk-hidden--visually\" id=\"sk-estimator-id-1\" type=\"checkbox\" checked><label for=\"sk-estimator-id-1\" class=\"sk-toggleable__label sk-toggleable__label-arrow\">LinearRegression</label><div class=\"sk-toggleable__content\"><pre>LinearRegression()</pre></div></div></div></div></div>"
      ],
      "text/plain": [
       "LinearRegression()"
      ]
     },
     "execution_count": 16,
     "metadata": {},
     "output_type": "execute_result"
    }
   ],
   "source": [
    "from sklearn.linear_model import LinearRegression\n",
    "lr = LinearRegression()\n",
    "lr.fit(x_train,y_train)"
   ]
  },
  {
   "cell_type": "markdown",
   "id": "b241bda0",
   "metadata": {},
   "source": [
    "#### Predicting the data "
   ]
  },
  {
   "cell_type": "code",
   "execution_count": 17,
   "id": "827eaa65",
   "metadata": {},
   "outputs": [
    {
     "data": {
      "text/plain": [
       "array([111561.40695899,  63796.61645269,  64751.91226282,  54243.65835143,\n",
       "        56154.24997168,  56154.24997168,  62841.32064257,  90544.89913622,\n",
       "        60930.72902231])"
      ]
     },
     "execution_count": 17,
     "metadata": {},
     "output_type": "execute_result"
    }
   ],
   "source": [
    "lr.predict(x_test)"
   ]
  },
  {
   "cell_type": "code",
   "execution_count": 18,
   "id": "55102bfc",
   "metadata": {},
   "outputs": [],
   "source": [
    "y_pred = lr.predict(x_test)"
   ]
  },
  {
   "cell_type": "code",
   "execution_count": 19,
   "id": "61ae00dc",
   "metadata": {},
   "outputs": [
    {
     "data": {
      "image/png": "[encoded data removed]",
      "text/plain": [
       "<Figure size 640x480 with 1 Axes>"
      ]
     },
     "metadata": {},
     "output_type": "display_data"
    }
   ],
   "source": [
    "plt.scatter(x_test, y_test, label = \"Actual data points\")\n",
    "plt.plot(x_test, y_pred, color = \"red\", label = \"Best fit line\")\n",
    "plt.legend()\n",
    "plt.grid(\"True\")\n",
    "plt.show()"
   ]
  },
  {
   "cell_type": "markdown",
   "id": "f0985e47",
   "metadata": {},
   "source": [
    "#### Checking the accuracy"
   ]
  },
  {
   "cell_type": "code",
   "execution_count": 20,
   "id": "b1a7e9bb",
   "metadata": {},
   "outputs": [],
   "source": [
    "from sklearn import metrics"
   ]
  },
  {
   "cell_type": "code",
   "execution_count": 21,
   "id": "3e395335",
   "metadata": {},
   "outputs": [
    {
     "name": "stdout",
     "output_type": "stream",
     "text": [
      "Mean Absolute Error: 4634.087396288687\n",
      "Mean Squared Error: 29273896.990302585\n",
      "Root Mean Squared Error: 5410.535739675192\n",
      "R2 Score: 0.899235317431343\n"
     ]
    }
   ],
   "source": [
    "print('Mean Absolute Error:', metrics.mean_absolute_error(y_test, y_pred))\n",
    "print('Mean Squared Error:', metrics.mean_squared_error(y_test, y_pred))\n",
    "print('Root Mean Squared Error:', np.sqrt(metrics.mean_squared_error(y_test, y_pred)))\n",
    "print('R2 Score:', metrics.r2_score(y_test, y_pred))"
   ]
  },
  {
   "cell_type": "markdown",
   "id": "e4ddd0f4",
   "metadata": {},
   "source": [
    "#### Getting the slope and intercept of best fit line."
   ]
  },
  {
   "cell_type": "code",
   "execution_count": 22,
   "id": "c433c9ad",
   "metadata": {},
   "outputs": [
    {
     "name": "stdout",
     "output_type": "stream",
     "text": [
      "Slope: 9552.958101260216\n",
      "Intercept: 24629.488237524667\n"
     ]
    }
   ],
   "source": [
    "print(\"Slope:\", lr.coef_[0])\n",
    "print(\"Intercept:\",lr.intercept_)"
   ]
  },
  {
   "cell_type": "markdown",
   "id": "dd27a523",
   "metadata": {},
   "source": [
    "#### Plotting the actual data points and predicted data points.\n"
   ]
  },
  {
   "cell_type": "code",
   "execution_count": 23,
   "id": "0a98cfc7",
   "metadata": {},
   "outputs": [
    {
     "data": {
      "image/png": "[encoded data removed]",
      "text/plain": [
       "<Figure size 640x480 with 1 Axes>"
      ]
     },
     "metadata": {},
     "output_type": "display_data"
    }
   ],
   "source": [
    "plt.scatter(x_test, y_pred)\n",
    "plt.scatter(x_test, y_test)\n",
    "plt.legend(['Predicted', 'Actual'])\n",
    "plt.grid()\n",
    "plt.show()"
   ]
  },
  {
   "cell_type": "markdown",
   "id": "2a91dfdc",
   "metadata": {},
   "source": [
    "#### Visualizing within the dataframe and comparing the actual data points with the predicted values."
   ]
  },
  {
   "cell_type": "code",
   "execution_count": 24,
   "id": "d58d9604",
   "metadata": {
    "scrolled": true
   },
   "outputs": [
    {
     "data": {
      "text/html": [
       "<div>\n",
       "<style scoped>\n",
       "    .dataframe tbody tr th:only-of-type {\n",
       "        vertical-align: middle;\n",
       "    }\n",
       "\n",
       "    .dataframe tbody tr th {\n",
       "        vertical-align: top;\n",
       "    }\n",
       "\n",
       "    .dataframe thead th {\n",
       "        text-align: right;\n",
       "    }\n",
       "</style>\n",
       "<table border=\"1\" class=\"dataframe\">\n",
       "  <thead>\n",
       "    <tr style=\"text-align: right;\">\n",
       "      <th></th>\n",
       "      <th>Actual</th>\n",
       "      <th>Predicted</th>\n",
       "    </tr>\n",
       "  </thead>\n",
       "  <tbody>\n",
       "    <tr>\n",
       "      <th>0</th>\n",
       "      <td>105583.0</td>\n",
       "      <td>111561.406959</td>\n",
       "    </tr>\n",
       "    <tr>\n",
       "      <th>1</th>\n",
       "      <td>56958.0</td>\n",
       "      <td>63796.616453</td>\n",
       "    </tr>\n",
       "    <tr>\n",
       "      <th>2</th>\n",
       "      <td>57082.0</td>\n",
       "      <td>64751.912263</td>\n",
       "    </tr>\n",
       "    <tr>\n",
       "      <th>3</th>\n",
       "      <td>60151.0</td>\n",
       "      <td>54243.658351</td>\n",
       "    </tr>\n",
       "    <tr>\n",
       "      <th>4</th>\n",
       "      <td>54446.0</td>\n",
       "      <td>56154.249972</td>\n",
       "    </tr>\n",
       "    <tr>\n",
       "      <th>5</th>\n",
       "      <td>64446.0</td>\n",
       "      <td>56154.249972</td>\n",
       "    </tr>\n",
       "    <tr>\n",
       "      <th>6</th>\n",
       "      <td>63219.0</td>\n",
       "      <td>62841.320643</td>\n",
       "    </tr>\n",
       "    <tr>\n",
       "      <th>7</th>\n",
       "      <td>91739.0</td>\n",
       "      <td>90544.899136</td>\n",
       "    </tr>\n",
       "    <tr>\n",
       "      <th>8</th>\n",
       "      <td>57190.0</td>\n",
       "      <td>60930.729022</td>\n",
       "    </tr>\n",
       "  </tbody>\n",
       "</table>\n",
       "</div>"
      ],
      "text/plain": [
       "     Actual      Predicted\n",
       "0  105583.0  111561.406959\n",
       "1   56958.0   63796.616453\n",
       "2   57082.0   64751.912263\n",
       "3   60151.0   54243.658351\n",
       "4   54446.0   56154.249972\n",
       "5   64446.0   56154.249972\n",
       "6   63219.0   62841.320643\n",
       "7   91739.0   90544.899136\n",
       "8   57190.0   60930.729022"
      ]
     },
     "execution_count": 24,
     "metadata": {},
     "output_type": "execute_result"
    }
   ],
   "source": [
    "pd.DataFrame({'Actual':y_test.flatten(), 'Predicted':y_pred.flatten()})"
   ]
  }
 ],
 "metadata": {
  "kernelspec": {
   "display_name": "Python 3 (ipykernel)",
   "language": "python",
   "name": "python3"
  },
  "language_info": {
   "codemirror_mode": {
    "name": "ipython",
    "version": 3
   },
   "file_extension": ".py",
   "mimetype": "text/x-python",
   "name": "python",
   "nbconvert_exporter": "python",
   "pygments_lexer": "ipython3",
   "version": "3.11.7"
  }
 },
 "nbformat": 4,
 "nbformat_minor": 5
}
